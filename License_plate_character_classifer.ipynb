{
  "nbformat": 4,
  "nbformat_minor": 0,
  "metadata": {
    "colab": {
      "provenance": []
    },
    "kernelspec": {
      "name": "python3",
      "display_name": "Python 3"
    },
    "language_info": {
      "name": "python"
    }
  },
  "cells": [
    {
      "cell_type": "markdown",
      "source": [
        "TODO: going to implement a basic MNIST like classifer to classify the digits of\n",
        "persian license plate\n",
        "\n",
        "- generate fake dataset or find it\n",
        "- train a classifier (yolo or torch?)\n",
        "- get test score (acc, f1, conf_matrix, ...)\n",
        "- save it and give it to the license plate recognition script/notebook\n",
        "\n"
      ],
      "metadata": {
        "id": "Jqy03_hG249l"
      }
    },
    {
      "cell_type": "code",
      "source": [
        "!pip install roboflow"
      ],
      "metadata": {
        "id": "RyYq-pFOSF5o"
      },
      "execution_count": null,
      "outputs": []
    },
    {
      "cell_type": "code",
      "execution_count": 4,
      "metadata": {
        "id": "GzDEzUmy2z7C",
        "colab": {
          "base_uri": "https://localhost:8080/"
        },
        "outputId": "23a52554-9db8-41c7-8d59-dfb478a5975f"
      },
      "outputs": [
        {
          "output_type": "stream",
          "name": "stdout",
          "text": [
            "loading Roboflow workspace...\n",
            "loading Roboflow project...\n"
          ]
        },
        {
          "output_type": "stream",
          "name": "stderr",
          "text": [
            "Downloading Dataset Version Zip in plate_ocr_ir-2 to folder:: 100%|██████████| 11406/11406 [00:00<00:00, 37788.10it/s]"
          ]
        },
        {
          "output_type": "stream",
          "name": "stdout",
          "text": [
            "\n"
          ]
        },
        {
          "output_type": "stream",
          "name": "stderr",
          "text": [
            "\n",
            "Extracting Dataset Version Zip to plate_ocr_ir-2 in folder:: 100%|██████████| 9658/9658 [00:01<00:00, 8830.92it/s]\n"
          ]
        }
      ],
      "source": [
        "from roboflow import Roboflow\n",
        "from google.colab import userdata\n",
        "\n",
        "api_key = userdata.get('RF_TOKEN')\n",
        "rf = Roboflow(api_key=api_key)\n",
        "project = rf.workspace(\"object-detection-yolov5\").project(\"plate_ocr_ir\")\n",
        "version = project.version(2)\n",
        "dataset = version.download(\"folder\")\n",
        ""
      ]
    },
    {
      "cell_type": "code",
      "source": [
        "import torch\n",
        "from torch.utils.data import DataLoader\n",
        "from torchvision import datasets, transforms\n",
        "\n",
        "# Define transformations for the images\n",
        "transform = transforms.Compose([\n",
        "    transforms.Grayscale(),        # Ensure images are grayscale\n",
        "    transforms.Resize((28, 28)),   # Resize to 28x28\n",
        "    transforms.ToTensor(),         # Convert to tensor\n",
        "])\n",
        "\n",
        "# Load the train dataset using ImageFolder\n",
        "dataset_path = dataset.location + \"/train\"\n",
        "train_dataset = datasets.ImageFolder(root=dataset_path, transform=transform)\n",
        "train_loader = DataLoader(train_dataset, batch_size=32, shuffle=True)\n",
        "\n",
        "# Load the valid dataset using ImageFolder\n",
        "dataset_path = dataset.location + \"/valid\"\n",
        "valid_dataset = datasets.ImageFolder(root=dataset_path, transform=transform)\n",
        "valid_loader = DataLoader(valid_dataset, batch_size=32, shuffle=True)\n",
        "\n",
        "# Print class names\n",
        "print(f\"Classes: {train_dataset.classes}\")\n"
      ],
      "metadata": {
        "colab": {
          "base_uri": "https://localhost:8080/"
        },
        "id": "MWxU_DBFTAqx",
        "outputId": "559d9793-608a-41b3-d17e-36ca9947b3bc"
      },
      "execution_count": 10,
      "outputs": [
        {
          "output_type": "stream",
          "name": "stdout",
          "text": [
            "Classes: ['0', '1', '2', '3', '4', '5', '6', '7', '8', '9', 'a', 'b', 'ch', 'd', 'ein', 'f', 'g', 'ghaf', 'ghein', 'h2', 'hj', 'j', 'k', 'kh', 'l', 'm', 'n', 'p', 'r', 's', 'sad', 'sh', 't', 'ta', 'th', 'v', 'y', 'z', 'za', 'zad', 'zal', 'zh']\n"
          ]
        }
      ]
    },
    {
      "cell_type": "code",
      "source": [
        "len(train_dataset.classes)"
      ],
      "metadata": {
        "colab": {
          "base_uri": "https://localhost:8080/"
        },
        "id": "PWYZIconXu3l",
        "outputId": "e96081ba-bb8d-4c7d-effd-9b9b17b891c0"
      },
      "execution_count": 22,
      "outputs": [
        {
          "output_type": "execute_result",
          "data": {
            "text/plain": [
              "42"
            ]
          },
          "metadata": {},
          "execution_count": 22
        }
      ]
    },
    {
      "cell_type": "code",
      "source": [
        "import torch.nn as nn\n",
        "import torch.nn.functional as F\n",
        "\n",
        "class FCModel(nn.Module):\n",
        "    def __init__(self, num_classes):\n",
        "        super(FCModel, self).__init__()\n",
        "        self.fc1 = nn.Linear(28 * 28, 128)\n",
        "        self.fc2 = nn.Linear(128, 64)\n",
        "        self.fc3 = nn.Linear(64, num_classes)\n",
        "\n",
        "    def forward(self, x):\n",
        "        x = x.view(-1, 28 * 28)  # Flatten the image\n",
        "        x = F.relu(self.fc1(x))\n",
        "        x = F.relu(self.fc2(x))\n",
        "        x = self.fc3(x)\n",
        "        return x\n",
        "\n",
        "# Initialize the model\n",
        "num_classes = len(train_dataset.classes)\n",
        "model = FCModel(num_classes)\n"
      ],
      "metadata": {
        "id": "BNY8A6KRTYQK"
      },
      "execution_count": 18,
      "outputs": []
    },
    {
      "cell_type": "code",
      "source": [
        "import torch.optim as optim\n",
        "\n",
        "# Define the loss function and optimizer\n",
        "criterion = nn.CrossEntropyLoss()\n",
        "optimizer = optim.Adam(model.parameters(), lr=0.001)\n",
        "\n",
        "# Training loop\n",
        "num_epochs = 100\n",
        "device = torch.device(\"cuda\" if torch.cuda.is_available() else \"cpu\")\n",
        "model.to(device)\n",
        "\n",
        "for epoch in range(num_epochs):\n",
        "\n",
        "    # Training phase\n",
        "    model.train()\n",
        "    running_loss = 0.0\n",
        "    for images, labels in train_loader:\n",
        "\n",
        "        images, labels = images.to(device), labels.to(device)\n",
        "        optimizer.zero_grad()\n",
        "        outputs = model(images)\n",
        "        loss = criterion(outputs, labels)\n",
        "        loss.backward()\n",
        "        optimizer.step()\n",
        "\n",
        "        running_loss += loss.item()\n",
        "    avg_train_loss = running_loss / len(train_loader)\n",
        "\n",
        "    # Validation phase\n",
        "    model.eval()\n",
        "    val_loss = 0.0\n",
        "    correct = 0\n",
        "    total = 0\n",
        "    with torch.no_grad():\n",
        "        for images, labels in valid_loader:\n",
        "            images, labels = images.to(device), labels.to(device)\n",
        "            outputs = model(images)\n",
        "            loss = criterion(outputs, labels)\n",
        "            val_loss += loss.item()\n",
        "            _, predicted = torch.max(outputs, 1)\n",
        "            total += labels.size(0)\n",
        "            correct += (predicted == labels).sum().item()\n",
        "    avg_val_loss = val_loss / len(valid_loader)\n",
        "    val_accuracy = 100 * correct / total\n",
        "\n",
        "    # Epoch finished\n",
        "    print(f\"Epoch [{epoch+1}/{num_epochs}]\")\n",
        "    print(f\"Train Loss: {avg_train_loss:.4f} | Val Loss: {avg_val_loss:.4f} | Val Accuracy: {val_accuracy:.2f}%\\n\")\n",
        "\n",
        "print(\"Training complete!\")\n"
      ],
      "metadata": {
        "colab": {
          "base_uri": "https://localhost:8080/",
          "height": 1000
        },
        "id": "BTYsrH1STeQ0",
        "outputId": "c49b8deb-4475-4400-c729-d036826f3693"
      },
      "execution_count": 19,
      "outputs": [
        {
          "output_type": "stream",
          "name": "stdout",
          "text": [
            "Epoch [1/100]\n",
            "Train Loss: 3.3632 | Val Loss: 2.3897 | Val Accuracy: 29.92%\n",
            "\n",
            "Epoch [2/100]\n",
            "Train Loss: 2.3074 | Val Loss: 1.6883 | Val Accuracy: 48.74%\n",
            "\n",
            "Epoch [3/100]\n",
            "Train Loss: 1.9363 | Val Loss: 1.4659 | Val Accuracy: 55.56%\n",
            "\n",
            "Epoch [4/100]\n",
            "Train Loss: 1.6994 | Val Loss: 1.3651 | Val Accuracy: 56.82%\n",
            "\n",
            "Epoch [5/100]\n",
            "Train Loss: 1.5295 | Val Loss: 1.2659 | Val Accuracy: 57.70%\n",
            "\n",
            "Epoch [6/100]\n",
            "Train Loss: 1.3818 | Val Loss: 1.0789 | Val Accuracy: 65.53%\n",
            "\n",
            "Epoch [7/100]\n",
            "Train Loss: 1.2602 | Val Loss: 0.9801 | Val Accuracy: 67.42%\n",
            "\n",
            "Epoch [8/100]\n",
            "Train Loss: 1.1474 | Val Loss: 0.9590 | Val Accuracy: 68.94%\n",
            "\n",
            "Epoch [9/100]\n",
            "Train Loss: 1.0528 | Val Loss: 0.8866 | Val Accuracy: 69.57%\n",
            "\n",
            "Epoch [10/100]\n",
            "Train Loss: 0.9885 | Val Loss: 0.8925 | Val Accuracy: 72.10%\n",
            "\n",
            "Epoch [11/100]\n",
            "Train Loss: 0.9045 | Val Loss: 0.7786 | Val Accuracy: 75.88%\n",
            "\n",
            "Epoch [12/100]\n",
            "Train Loss: 0.8331 | Val Loss: 0.7218 | Val Accuracy: 76.89%\n",
            "\n",
            "Epoch [13/100]\n",
            "Train Loss: 0.7778 | Val Loss: 0.7389 | Val Accuracy: 77.27%\n",
            "\n",
            "Epoch [14/100]\n",
            "Train Loss: 0.7431 | Val Loss: 0.7744 | Val Accuracy: 75.38%\n",
            "\n",
            "Epoch [15/100]\n",
            "Train Loss: 0.6882 | Val Loss: 0.7104 | Val Accuracy: 77.27%\n",
            "\n",
            "Epoch [16/100]\n",
            "Train Loss: 0.6403 | Val Loss: 0.6505 | Val Accuracy: 79.92%\n",
            "\n",
            "Epoch [17/100]\n",
            "Train Loss: 0.6107 | Val Loss: 0.6132 | Val Accuracy: 81.19%\n",
            "\n",
            "Epoch [18/100]\n",
            "Train Loss: 0.5817 | Val Loss: 0.6504 | Val Accuracy: 81.06%\n",
            "\n",
            "Epoch [19/100]\n",
            "Train Loss: 0.5410 | Val Loss: 0.5834 | Val Accuracy: 82.20%\n",
            "\n",
            "Epoch [20/100]\n",
            "Train Loss: 0.5139 | Val Loss: 0.6093 | Val Accuracy: 82.07%\n",
            "\n",
            "Epoch [21/100]\n",
            "Train Loss: 0.4931 | Val Loss: 0.5627 | Val Accuracy: 82.70%\n",
            "\n",
            "Epoch [22/100]\n",
            "Train Loss: 0.4639 | Val Loss: 0.5305 | Val Accuracy: 83.84%\n",
            "\n",
            "Epoch [23/100]\n",
            "Train Loss: 0.4401 | Val Loss: 0.5267 | Val Accuracy: 84.85%\n",
            "\n",
            "Epoch [24/100]\n",
            "Train Loss: 0.4061 | Val Loss: 0.5635 | Val Accuracy: 80.81%\n",
            "\n",
            "Epoch [25/100]\n",
            "Train Loss: 0.3895 | Val Loss: 0.5506 | Val Accuracy: 83.84%\n",
            "\n",
            "Epoch [26/100]\n",
            "Train Loss: 0.3749 | Val Loss: 0.5332 | Val Accuracy: 83.71%\n",
            "\n",
            "Epoch [27/100]\n",
            "Train Loss: 0.3538 | Val Loss: 0.5371 | Val Accuracy: 82.95%\n",
            "\n",
            "Epoch [28/100]\n",
            "Train Loss: 0.3334 | Val Loss: 0.4902 | Val Accuracy: 85.35%\n",
            "\n",
            "Epoch [29/100]\n",
            "Train Loss: 0.3063 | Val Loss: 0.5077 | Val Accuracy: 84.22%\n",
            "\n",
            "Epoch [30/100]\n",
            "Train Loss: 0.3038 | Val Loss: 0.5104 | Val Accuracy: 84.34%\n",
            "\n",
            "Epoch [31/100]\n",
            "Train Loss: 0.2905 | Val Loss: 0.5428 | Val Accuracy: 85.35%\n",
            "\n",
            "Epoch [32/100]\n",
            "Train Loss: 0.2758 | Val Loss: 0.5179 | Val Accuracy: 84.34%\n",
            "\n",
            "Epoch [33/100]\n",
            "Train Loss: 0.2579 | Val Loss: 0.5368 | Val Accuracy: 84.22%\n",
            "\n",
            "Epoch [34/100]\n",
            "Train Loss: 0.2395 | Val Loss: 0.5913 | Val Accuracy: 82.32%\n",
            "\n",
            "Epoch [35/100]\n",
            "Train Loss: 0.2268 | Val Loss: 0.4927 | Val Accuracy: 84.97%\n",
            "\n",
            "Epoch [36/100]\n",
            "Train Loss: 0.2321 | Val Loss: 0.6170 | Val Accuracy: 81.31%\n",
            "\n",
            "Epoch [37/100]\n",
            "Train Loss: 0.2114 | Val Loss: 0.5238 | Val Accuracy: 84.72%\n",
            "\n",
            "Epoch [38/100]\n",
            "Train Loss: 0.2006 | Val Loss: 0.5624 | Val Accuracy: 85.10%\n",
            "\n",
            "Epoch [39/100]\n",
            "Train Loss: 0.1882 | Val Loss: 0.5465 | Val Accuracy: 85.35%\n",
            "\n",
            "Epoch [40/100]\n",
            "Train Loss: 0.1891 | Val Loss: 0.5902 | Val Accuracy: 83.84%\n",
            "\n",
            "Epoch [41/100]\n",
            "Train Loss: 0.1697 | Val Loss: 0.5628 | Val Accuracy: 85.98%\n",
            "\n",
            "Epoch [42/100]\n",
            "Train Loss: 0.1487 | Val Loss: 0.5477 | Val Accuracy: 86.11%\n",
            "\n",
            "Epoch [43/100]\n",
            "Train Loss: 0.1620 | Val Loss: 0.6055 | Val Accuracy: 84.47%\n",
            "\n",
            "Epoch [44/100]\n",
            "Train Loss: 0.1806 | Val Loss: 0.5983 | Val Accuracy: 84.72%\n",
            "\n",
            "Epoch [45/100]\n",
            "Train Loss: 0.1266 | Val Loss: 0.5451 | Val Accuracy: 85.86%\n",
            "\n",
            "Epoch [46/100]\n",
            "Train Loss: 0.1284 | Val Loss: 0.5180 | Val Accuracy: 86.99%\n",
            "\n",
            "Epoch [47/100]\n",
            "Train Loss: 0.1351 | Val Loss: 0.5426 | Val Accuracy: 86.74%\n",
            "\n",
            "Epoch [48/100]\n",
            "Train Loss: 0.1208 | Val Loss: 0.4929 | Val Accuracy: 86.36%\n",
            "\n",
            "Epoch [49/100]\n",
            "Train Loss: 0.1197 | Val Loss: 0.5524 | Val Accuracy: 84.60%\n",
            "\n",
            "Epoch [50/100]\n",
            "Train Loss: 0.1072 | Val Loss: 0.6190 | Val Accuracy: 84.97%\n",
            "\n",
            "Epoch [51/100]\n",
            "Train Loss: 0.1292 | Val Loss: 0.6418 | Val Accuracy: 84.60%\n",
            "\n",
            "Epoch [52/100]\n",
            "Train Loss: 0.1383 | Val Loss: 0.5802 | Val Accuracy: 86.74%\n",
            "\n",
            "Epoch [53/100]\n",
            "Train Loss: 0.0854 | Val Loss: 0.6446 | Val Accuracy: 84.60%\n",
            "\n",
            "Epoch [54/100]\n",
            "Train Loss: 0.0915 | Val Loss: 0.5497 | Val Accuracy: 85.48%\n",
            "\n",
            "Epoch [55/100]\n",
            "Train Loss: 0.1194 | Val Loss: 0.8811 | Val Accuracy: 79.92%\n",
            "\n",
            "Epoch [56/100]\n",
            "Train Loss: 0.1474 | Val Loss: 0.7208 | Val Accuracy: 82.58%\n",
            "\n",
            "Epoch [57/100]\n",
            "Train Loss: 0.0823 | Val Loss: 0.6200 | Val Accuracy: 84.34%\n",
            "\n",
            "Epoch [58/100]\n",
            "Train Loss: 0.0623 | Val Loss: 0.6249 | Val Accuracy: 86.62%\n",
            "\n",
            "Epoch [59/100]\n",
            "Train Loss: 0.0649 | Val Loss: 0.7003 | Val Accuracy: 86.49%\n",
            "\n"
          ]
        },
        {
          "output_type": "error",
          "ename": "KeyboardInterrupt",
          "evalue": "",
          "traceback": [
            "\u001b[0;31m---------------------------------------------------------------------------\u001b[0m",
            "\u001b[0;31mKeyboardInterrupt\u001b[0m                         Traceback (most recent call last)",
            "\u001b[0;32m<ipython-input-19-27a1ee020f2a>\u001b[0m in \u001b[0;36m<cell line: 12>\u001b[0;34m()\u001b[0m\n\u001b[1;32m     22\u001b[0m         \u001b[0mloss\u001b[0m \u001b[0;34m=\u001b[0m \u001b[0mcriterion\u001b[0m\u001b[0;34m(\u001b[0m\u001b[0moutputs\u001b[0m\u001b[0;34m,\u001b[0m \u001b[0mlabels\u001b[0m\u001b[0;34m)\u001b[0m\u001b[0;34m\u001b[0m\u001b[0;34m\u001b[0m\u001b[0m\n\u001b[1;32m     23\u001b[0m         \u001b[0mloss\u001b[0m\u001b[0;34m.\u001b[0m\u001b[0mbackward\u001b[0m\u001b[0;34m(\u001b[0m\u001b[0;34m)\u001b[0m\u001b[0;34m\u001b[0m\u001b[0;34m\u001b[0m\u001b[0m\n\u001b[0;32m---> 24\u001b[0;31m         \u001b[0moptimizer\u001b[0m\u001b[0;34m.\u001b[0m\u001b[0mstep\u001b[0m\u001b[0;34m(\u001b[0m\u001b[0;34m)\u001b[0m\u001b[0;34m\u001b[0m\u001b[0;34m\u001b[0m\u001b[0m\n\u001b[0m\u001b[1;32m     25\u001b[0m \u001b[0;34m\u001b[0m\u001b[0m\n\u001b[1;32m     26\u001b[0m         \u001b[0mrunning_loss\u001b[0m \u001b[0;34m+=\u001b[0m \u001b[0mloss\u001b[0m\u001b[0;34m.\u001b[0m\u001b[0mitem\u001b[0m\u001b[0;34m(\u001b[0m\u001b[0;34m)\u001b[0m\u001b[0;34m\u001b[0m\u001b[0;34m\u001b[0m\u001b[0m\n",
            "\u001b[0;32m/usr/local/lib/python3.10/dist-packages/torch/optim/optimizer.py\u001b[0m in \u001b[0;36mwrapper\u001b[0;34m(*args, **kwargs)\u001b[0m\n\u001b[1;32m    485\u001b[0m                             )\n\u001b[1;32m    486\u001b[0m \u001b[0;34m\u001b[0m\u001b[0m\n\u001b[0;32m--> 487\u001b[0;31m                 \u001b[0mout\u001b[0m \u001b[0;34m=\u001b[0m \u001b[0mfunc\u001b[0m\u001b[0;34m(\u001b[0m\u001b[0;34m*\u001b[0m\u001b[0margs\u001b[0m\u001b[0;34m,\u001b[0m \u001b[0;34m**\u001b[0m\u001b[0mkwargs\u001b[0m\u001b[0;34m)\u001b[0m\u001b[0;34m\u001b[0m\u001b[0;34m\u001b[0m\u001b[0m\n\u001b[0m\u001b[1;32m    488\u001b[0m                 \u001b[0mself\u001b[0m\u001b[0;34m.\u001b[0m\u001b[0m_optimizer_step_code\u001b[0m\u001b[0;34m(\u001b[0m\u001b[0;34m)\u001b[0m\u001b[0;34m\u001b[0m\u001b[0;34m\u001b[0m\u001b[0m\n\u001b[1;32m    489\u001b[0m \u001b[0;34m\u001b[0m\u001b[0m\n",
            "\u001b[0;32m/usr/local/lib/python3.10/dist-packages/torch/optim/optimizer.py\u001b[0m in \u001b[0;36m_use_grad\u001b[0;34m(self, *args, **kwargs)\u001b[0m\n\u001b[1;32m     89\u001b[0m             \u001b[0mtorch\u001b[0m\u001b[0;34m.\u001b[0m\u001b[0mset_grad_enabled\u001b[0m\u001b[0;34m(\u001b[0m\u001b[0mself\u001b[0m\u001b[0;34m.\u001b[0m\u001b[0mdefaults\u001b[0m\u001b[0;34m[\u001b[0m\u001b[0;34m\"differentiable\"\u001b[0m\u001b[0;34m]\u001b[0m\u001b[0;34m)\u001b[0m\u001b[0;34m\u001b[0m\u001b[0;34m\u001b[0m\u001b[0m\n\u001b[1;32m     90\u001b[0m             \u001b[0mtorch\u001b[0m\u001b[0;34m.\u001b[0m\u001b[0m_dynamo\u001b[0m\u001b[0;34m.\u001b[0m\u001b[0mgraph_break\u001b[0m\u001b[0;34m(\u001b[0m\u001b[0;34m)\u001b[0m\u001b[0;34m\u001b[0m\u001b[0;34m\u001b[0m\u001b[0m\n\u001b[0;32m---> 91\u001b[0;31m             \u001b[0mret\u001b[0m \u001b[0;34m=\u001b[0m \u001b[0mfunc\u001b[0m\u001b[0;34m(\u001b[0m\u001b[0mself\u001b[0m\u001b[0;34m,\u001b[0m \u001b[0;34m*\u001b[0m\u001b[0margs\u001b[0m\u001b[0;34m,\u001b[0m \u001b[0;34m**\u001b[0m\u001b[0mkwargs\u001b[0m\u001b[0;34m)\u001b[0m\u001b[0;34m\u001b[0m\u001b[0;34m\u001b[0m\u001b[0m\n\u001b[0m\u001b[1;32m     92\u001b[0m         \u001b[0;32mfinally\u001b[0m\u001b[0;34m:\u001b[0m\u001b[0;34m\u001b[0m\u001b[0;34m\u001b[0m\u001b[0m\n\u001b[1;32m     93\u001b[0m             \u001b[0mtorch\u001b[0m\u001b[0;34m.\u001b[0m\u001b[0m_dynamo\u001b[0m\u001b[0;34m.\u001b[0m\u001b[0mgraph_break\u001b[0m\u001b[0;34m(\u001b[0m\u001b[0;34m)\u001b[0m\u001b[0;34m\u001b[0m\u001b[0;34m\u001b[0m\u001b[0m\n",
            "\u001b[0;32m/usr/local/lib/python3.10/dist-packages/torch/optim/adam.py\u001b[0m in \u001b[0;36mstep\u001b[0;34m(self, closure)\u001b[0m\n\u001b[1;32m    221\u001b[0m             )\n\u001b[1;32m    222\u001b[0m \u001b[0;34m\u001b[0m\u001b[0m\n\u001b[0;32m--> 223\u001b[0;31m             adam(\n\u001b[0m\u001b[1;32m    224\u001b[0m                 \u001b[0mparams_with_grad\u001b[0m\u001b[0;34m,\u001b[0m\u001b[0;34m\u001b[0m\u001b[0;34m\u001b[0m\u001b[0m\n\u001b[1;32m    225\u001b[0m                 \u001b[0mgrads\u001b[0m\u001b[0;34m,\u001b[0m\u001b[0;34m\u001b[0m\u001b[0;34m\u001b[0m\u001b[0m\n",
            "\u001b[0;32m/usr/local/lib/python3.10/dist-packages/torch/optim/optimizer.py\u001b[0m in \u001b[0;36mmaybe_fallback\u001b[0;34m(*args, **kwargs)\u001b[0m\n\u001b[1;32m    152\u001b[0m                 \u001b[0;32mreturn\u001b[0m \u001b[0mdisabled_func\u001b[0m\u001b[0;34m(\u001b[0m\u001b[0;34m*\u001b[0m\u001b[0margs\u001b[0m\u001b[0;34m,\u001b[0m \u001b[0;34m**\u001b[0m\u001b[0mkwargs\u001b[0m\u001b[0;34m)\u001b[0m\u001b[0;34m\u001b[0m\u001b[0;34m\u001b[0m\u001b[0m\n\u001b[1;32m    153\u001b[0m             \u001b[0;32melse\u001b[0m\u001b[0;34m:\u001b[0m\u001b[0;34m\u001b[0m\u001b[0;34m\u001b[0m\u001b[0m\n\u001b[0;32m--> 154\u001b[0;31m                 \u001b[0;32mreturn\u001b[0m \u001b[0mfunc\u001b[0m\u001b[0;34m(\u001b[0m\u001b[0;34m*\u001b[0m\u001b[0margs\u001b[0m\u001b[0;34m,\u001b[0m \u001b[0;34m**\u001b[0m\u001b[0mkwargs\u001b[0m\u001b[0;34m)\u001b[0m\u001b[0;34m\u001b[0m\u001b[0;34m\u001b[0m\u001b[0m\n\u001b[0m\u001b[1;32m    155\u001b[0m \u001b[0;34m\u001b[0m\u001b[0m\n\u001b[1;32m    156\u001b[0m         \u001b[0;32mreturn\u001b[0m \u001b[0mmaybe_fallback\u001b[0m\u001b[0;34m\u001b[0m\u001b[0;34m\u001b[0m\u001b[0m\n",
            "\u001b[0;32m/usr/local/lib/python3.10/dist-packages/torch/optim/adam.py\u001b[0m in \u001b[0;36madam\u001b[0;34m(params, grads, exp_avgs, exp_avg_sqs, max_exp_avg_sqs, state_steps, foreach, capturable, differentiable, fused, grad_scale, found_inf, has_complex, amsgrad, beta1, beta2, lr, weight_decay, eps, maximize)\u001b[0m\n\u001b[1;32m    782\u001b[0m         \u001b[0mfunc\u001b[0m \u001b[0;34m=\u001b[0m \u001b[0m_single_tensor_adam\u001b[0m\u001b[0;34m\u001b[0m\u001b[0;34m\u001b[0m\u001b[0m\n\u001b[1;32m    783\u001b[0m \u001b[0;34m\u001b[0m\u001b[0m\n\u001b[0;32m--> 784\u001b[0;31m     func(\n\u001b[0m\u001b[1;32m    785\u001b[0m         \u001b[0mparams\u001b[0m\u001b[0;34m,\u001b[0m\u001b[0;34m\u001b[0m\u001b[0;34m\u001b[0m\u001b[0m\n\u001b[1;32m    786\u001b[0m         \u001b[0mgrads\u001b[0m\u001b[0;34m,\u001b[0m\u001b[0;34m\u001b[0m\u001b[0;34m\u001b[0m\u001b[0m\n",
            "\u001b[0;32m/usr/local/lib/python3.10/dist-packages/torch/optim/adam.py\u001b[0m in \u001b[0;36m_single_tensor_adam\u001b[0;34m(params, grads, exp_avgs, exp_avg_sqs, max_exp_avg_sqs, state_steps, grad_scale, found_inf, amsgrad, has_complex, beta1, beta2, lr, weight_decay, eps, maximize, capturable, differentiable)\u001b[0m\n\u001b[1;32m    376\u001b[0m \u001b[0;34m\u001b[0m\u001b[0m\n\u001b[1;32m    377\u001b[0m         \u001b[0;31m# Decay the first and second moment running average coefficient\u001b[0m\u001b[0;34m\u001b[0m\u001b[0;34m\u001b[0m\u001b[0m\n\u001b[0;32m--> 378\u001b[0;31m         \u001b[0mexp_avg\u001b[0m\u001b[0;34m.\u001b[0m\u001b[0mlerp_\u001b[0m\u001b[0;34m(\u001b[0m\u001b[0mgrad\u001b[0m\u001b[0;34m,\u001b[0m \u001b[0;36m1\u001b[0m \u001b[0;34m-\u001b[0m \u001b[0mbeta1\u001b[0m\u001b[0;34m)\u001b[0m\u001b[0;34m\u001b[0m\u001b[0;34m\u001b[0m\u001b[0m\n\u001b[0m\u001b[1;32m    379\u001b[0m         \u001b[0mexp_avg_sq\u001b[0m\u001b[0;34m.\u001b[0m\u001b[0mmul_\u001b[0m\u001b[0;34m(\u001b[0m\u001b[0mbeta2\u001b[0m\u001b[0;34m)\u001b[0m\u001b[0;34m.\u001b[0m\u001b[0maddcmul_\u001b[0m\u001b[0;34m(\u001b[0m\u001b[0mgrad\u001b[0m\u001b[0;34m,\u001b[0m \u001b[0mgrad\u001b[0m\u001b[0;34m.\u001b[0m\u001b[0mconj\u001b[0m\u001b[0;34m(\u001b[0m\u001b[0;34m)\u001b[0m\u001b[0;34m,\u001b[0m \u001b[0mvalue\u001b[0m\u001b[0;34m=\u001b[0m\u001b[0;36m1\u001b[0m \u001b[0;34m-\u001b[0m \u001b[0mbeta2\u001b[0m\u001b[0;34m)\u001b[0m\u001b[0;34m\u001b[0m\u001b[0;34m\u001b[0m\u001b[0m\n\u001b[1;32m    380\u001b[0m \u001b[0;34m\u001b[0m\u001b[0m\n",
            "\u001b[0;31mKeyboardInterrupt\u001b[0m: "
          ]
        }
      ]
    },
    {
      "cell_type": "code",
      "source": [
        "import numpy as np\n",
        "from sklearn.metrics import confusion_matrix, classification_report, f1_score\n",
        "import matplotlib.pyplot as plt\n",
        "import seaborn as sns\n",
        "\n",
        "# Load test dataset using ImageFolder\n",
        "test_dataset_path = dataset.location + \"/test\"  # Update with your test dataset path\n",
        "test_dataset = datasets.ImageFolder(root=test_dataset_path, transform=transform)\n",
        "test_loader = DataLoader(test_dataset, batch_size=32, shuffle=False)\n",
        "\n",
        "# Evaluate the model and store predictions\n",
        "model.eval()\n",
        "all_preds = []\n",
        "all_labels = []\n",
        "\n",
        "with torch.no_grad():\n",
        "    for images, labels in test_loader:\n",
        "        images, labels = images.to(device), labels.to(device)\n",
        "        outputs = model(images)\n",
        "        _, predicted = torch.max(outputs, 1)\n",
        "\n",
        "        all_preds.extend(predicted.cpu().numpy())\n",
        "        all_labels.extend(labels.cpu().numpy())\n",
        "\n",
        "# Compute the confusion matrix\n",
        "cm = confusion_matrix(all_labels, all_preds)\n",
        "classes = test_dataset.classes\n",
        "\n",
        "# Print classification report\n",
        "print(\"Classification Report:\")\n",
        "print(classification_report(all_labels, all_preds, target_names=classes))\n",
        "\n",
        "# Compute and print F1-score\n",
        "f1 = f1_score(all_labels, all_preds, average='weighted')\n",
        "print(f\"Weighted F1-Score: {f1:.4f}\")\n",
        "\n",
        "# Plot confusion matrix\n",
        "plt.figure(figsize=(10, 8))\n",
        "sns.heatmap(cm, annot=True, fmt='d', cmap='Blues', xticklabels=classes, yticklabels=classes)\n",
        "plt.xlabel('Predicted')\n",
        "plt.ylabel('Actual')\n",
        "plt.title('Confusion Matrix')\n",
        "plt.show()\n"
      ],
      "metadata": {
        "colab": {
          "base_uri": "https://localhost:8080/",
          "height": 1000
        },
        "id": "yTYPPW7xUXz2",
        "outputId": "94d1601e-56c5-45cf-eddc-30f4ccb1e8ee"
      },
      "execution_count": 20,
      "outputs": [
        {
          "output_type": "stream",
          "name": "stdout",
          "text": [
            "Classification Report:\n",
            "              precision    recall  f1-score   support\n",
            "\n",
            "           0       0.80      1.00      0.89         8\n",
            "           1       0.92      1.00      0.96        12\n",
            "           2       0.91      1.00      0.95        10\n",
            "           3       0.78      0.88      0.82         8\n",
            "           4       1.00      0.75      0.86        12\n",
            "           5       0.83      0.71      0.77         7\n",
            "           6       0.89      1.00      0.94         8\n",
            "           7       0.92      0.92      0.92        12\n",
            "           8       0.91      1.00      0.95        10\n",
            "           9       1.00      1.00      1.00         5\n",
            "           a       0.00      0.00      0.00         1\n",
            "           b       1.00      1.00      1.00        14\n",
            "          ch       0.73      0.73      0.73        15\n",
            "           d       0.78      1.00      0.88         7\n",
            "         ein       0.89      0.89      0.89         9\n",
            "           f       1.00      1.00      1.00         7\n",
            "           g       0.88      1.00      0.93         7\n",
            "        ghaf       1.00      0.33      0.50         3\n",
            "       ghein       0.86      0.67      0.75         9\n",
            "          h2       0.64      0.88      0.74         8\n",
            "          hj       1.00      0.83      0.91         6\n",
            "           j       0.62      0.91      0.74        11\n",
            "           k       1.00      0.78      0.88        18\n",
            "          kh       0.80      0.80      0.80         5\n",
            "           l       0.82      0.82      0.82        11\n",
            "           m       0.86      1.00      0.92         6\n",
            "           n       1.00      0.89      0.94         9\n",
            "           p       1.00      1.00      1.00        13\n",
            "           r       1.00      1.00      1.00        13\n",
            "           s       1.00      0.83      0.91        12\n",
            "         sad       0.82      0.90      0.86        10\n",
            "          sh       1.00      1.00      1.00        13\n",
            "           t       1.00      0.91      0.95        11\n",
            "          ta       0.92      0.69      0.79        16\n",
            "          th       1.00      1.00      1.00         7\n",
            "           v       0.80      0.67      0.73         6\n",
            "           y       0.83      1.00      0.91        15\n",
            "           z       0.75      0.43      0.55         7\n",
            "          za       0.73      0.73      0.73        15\n",
            "         zad       0.89      1.00      0.94         8\n",
            "         zal       1.00      0.80      0.89         5\n",
            "          zh       0.75      1.00      0.86         9\n",
            "\n",
            "    accuracy                           0.88       398\n",
            "   macro avg       0.86      0.85      0.85       398\n",
            "weighted avg       0.89      0.88      0.87       398\n",
            "\n",
            "Weighted F1-Score: 0.8735\n"
          ]
        },
        {
          "output_type": "stream",
          "name": "stderr",
          "text": [
            "Precision is ill-defined and being set to 0.0 in labels with no predicted samples. Use `zero_division` parameter to control this behavior.\n",
            "Precision is ill-defined and being set to 0.0 in labels with no predicted samples. Use `zero_division` parameter to control this behavior.\n",
            "Precision is ill-defined and being set to 0.0 in labels with no predicted samples. Use `zero_division` parameter to control this behavior.\n"
          ]
        },
        {
          "output_type": "display_data",
          "data": {
            "text/plain": [
              "<Figure size 1000x800 with 2 Axes>"
            ],
            "image/png": "[encoded data removed]"
          },
          "metadata": {}
        }
      ]
    },
    {
      "cell_type": "code",
      "source": [
        "digits  = np.load('digits.npy')\n",
        "model.eval()\n",
        "pred_idx = model(torch.tensor(digits[1]).float().unsqueeze(0)).argmax()\n",
        "classes[pred_idx]"
      ],
      "metadata": {
        "colab": {
          "base_uri": "https://localhost:8080/",
          "height": 36
        },
        "id": "9uyXmXYAa2aX",
        "outputId": "69dc1a38-0a84-4b3d-9848-55784301acee"
      },
      "execution_count": 30,
      "outputs": [
        {
          "output_type": "execute_result",
          "data": {
            "text/plain": [
              "'zad'"
            ],
            "application/vnd.google.colaboratory.intrinsic+json": {
              "type": "string"
            }
          },
          "metadata": {},
          "execution_count": 30
        }
      ]
    },
    {
      "cell_type": "code",
      "source": [
        "# download the model\n",
        "torch.save(model.state_dict(), \"persian_digit_classifier.pt\")"
      ],
      "metadata": {
        "id": "rewGqCSmWNo4"
      },
      "execution_count": 21,
      "outputs": []
    },
    {
      "cell_type": "code",
      "source": [
        "import torch\n",
        "import torch.nn as nn\n",
        "import torch.nn.functional as F\n",
        "import torchvision.transforms as transforms\n",
        "import cv2\n",
        "import numpy as np\n",
        "\n",
        "\n",
        "# Define the MNIST-like Fully Connected Model\n",
        "class FCModel(nn.Module):\n",
        "    def __init__(self, num_classes):\n",
        "        super(FCModel, self).__init__()\n",
        "        self.fc1 = nn.Linear(28 * 28, 128)\n",
        "        self.fc2 = nn.Linear(128, 64)\n",
        "        self.fc3 = nn.Linear(64, num_classes)\n",
        "\n",
        "    def forward(self, x):\n",
        "        x = x.view(-1, 28 * 28)  # Flatten the image\n",
        "        x = F.relu(self.fc1(x))\n",
        "        x = F.relu(self.fc2(x))\n",
        "        x = self.fc3(x)\n",
        "        return x\n",
        "\n",
        "\n",
        "# ImageClassifier class encapsulating model loading, preprocessing, and prediction\n",
        "class ImageClassifier:\n",
        "    def __init__(self, weights_path, class_names):\n",
        "        self.device = torch.device(\"cuda\" if torch.cuda.is_available() else \"cpu\")\n",
        "        self.class_names = class_names\n",
        "        self.model = self._load_model(weights_path)\n",
        "        self.model.to(self.device)\n",
        "        self.model.eval()\n",
        "        self.transform = self._get_transform()\n",
        "\n",
        "    def _load_model(self, weights_path):\n",
        "        \"\"\"Load the trained model with weights.\"\"\"\n",
        "        num_classes = len(self.class_names)\n",
        "        model = FCModel(num_classes)\n",
        "        model.load_state_dict(torch.load(weights_path, map_location=self.device))\n",
        "        print(\"Model loaded successfully.\")\n",
        "        return model\n",
        "\n",
        "    def _get_transform(self):\n",
        "        \"\"\"Define the preprocessing transformations.\"\"\"\n",
        "        return transforms.Compose([\n",
        "            transforms.Grayscale(),           # Convert to grayscale\n",
        "            transforms.Resize((28, 28)),      # Resize to 28x28\n",
        "            transforms.ToTensor(),            # Convert to tensor\n",
        "        ])\n",
        "\n",
        "    def preprocess_image(self, image):\n",
        "        \"\"\"Preprocess the input OpenCV image.\"\"\"\n",
        "        # Convert BGR to RGB (OpenCV loads images in BGR by default)\n",
        "        image_rgb = cv2.cvtColor(image, cv2.COLOR_BGR2RGB)\n",
        "        # Apply transformations\n",
        "        image_tensor = self.transform(image_rgb).unsqueeze(0)  # Add batch dimension\n",
        "        return image_tensor.to(self.device)\n",
        "\n",
        "    def predict(self, image):\n",
        "        \"\"\"Predict the class of the given image.\"\"\"\n",
        "        image_tensor = self.preprocess_image(image)\n",
        "        with torch.no_grad():\n",
        "            outputs = self.model(image_tensor)\n",
        "            _, predicted = torch.max(outputs, 1)\n",
        "            predicted_class = self.class_names[predicted.item()]\n",
        "        return predicted_class\n",
        "\n",
        "\n",
        "# Example usage\n",
        "if __name__ == \"__main__\":\n",
        "    weights_path = 'persian_digit_classifier.pt'\n",
        "    class_names = ['class1', 'class2', 'class3']\n",
        "\n",
        "    classifier = ImageClassifier(weights_path, class_names)\n",
        "\n",
        "    # Read an image using OpenCV\n",
        "    image_path = 'path/to/your/image.jpg'  # Update this with the path to your test image\n",
        "    image = cv2.imread(image_path)\n",
        "\n",
        "    if image is None:\n",
        "        print(f\"Error: Unable to load image at {image_path}\")\n",
        "    else:\n",
        "        # Predict the class\n",
        "        predicted_class = classifier.predict(image)\n",
        "        print(f\"Predicted Class: {predicted_class}\")\n"
      ],
      "metadata": {
        "id": "YujbIPILXilm"
      },
      "execution_count": null,
      "outputs": []
    }
  ]
}